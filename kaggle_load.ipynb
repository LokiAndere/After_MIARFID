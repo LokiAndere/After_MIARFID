{
  "nbformat": 4,
  "nbformat_minor": 0,
  "metadata": {
    "colab": {
      "name": "kaggle-load.ipynb",
      "provenance": [],
      "collapsed_sections": [],
      "authorship_tag": "ABX9TyMwPmuHpIwpH3KgXWlGOVUG",
      "include_colab_link": true
    },
    "kernelspec": {
      "name": "python3",
      "display_name": "Python 3"
    },
    "accelerator": "GPU"
  },
  "cells": [
    {
      "cell_type": "markdown",
      "metadata": {
        "id": "view-in-github",
        "colab_type": "text"
      },
      "source": [
        "<a href=\"https://colab.research.google.com/github/LokiAndere/After_MIARFID/blob/main/kaggle_load.ipynb\" target=\"_parent\"><img src=\"https://colab.research.google.com/assets/colab-badge.svg\" alt=\"Open In Colab\"/></a>"
      ]
    },
    {
      "cell_type": "code",
      "metadata": {
        "id": "MObB7uk6RmM9"
      },
      "source": [
        "import os\r\n",
        "os.environ['KAGGLE_USERNAME'] = \"xxxxxx\" # username from the json file\r\n",
        "os.environ['KAGGLE_KEY'] = \"xxxxxxxxxxxxxxxxxxxxxxxxxxxx\" # key from the json file\r\n",
        "!kaggle datasets download -d c/severstal-steel-defect-detection # api copied from kaggle"
      ],
      "execution_count": null,
      "outputs": []
    }
  ]
}