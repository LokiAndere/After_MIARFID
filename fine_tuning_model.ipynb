{
  "nbformat": 4,
  "nbformat_minor": 0,
  "metadata": {
    "colab": {
      "name": "fine-tuning-model.ipynb",
      "provenance": [],
      "collapsed_sections": [],
      "mount_file_id": "117hhctBSgKGjCoO6GKnSTSV7nPj43tV5",
      "authorship_tag": "ABX9TyNcq3OZ0fAbaVvd+XZxaeYk",
      "include_colab_link": true
    },
    "kernelspec": {
      "name": "python3",
      "display_name": "Python 3"
    },
    "accelerator": "GPU"
  },
  "cells": [
    {
      "cell_type": "markdown",
      "metadata": {
        "id": "view-in-github",
        "colab_type": "text"
      },
      "source": [
        "<a href=\"https://colab.research.google.com/github/LokiAndere/After_MIARFID/blob/main/fine_tuning_model.ipynb\" target=\"_parent\"><img src=\"https://colab.research.google.com/assets/colab-badge.svg\" alt=\"Open In Colab\"/></a>"
      ]
    },
    {
      "cell_type": "code",
      "metadata": {
        "id": "kzlaWdp5UsTo"
      },
      "source": [
        "from tensorflow.python.keras.models import Sequential\r\n",
        "from tensorflow.python.keras.layers import Dense"
      ],
      "execution_count": null,
      "outputs": []
    },
    {
      "cell_type": "code",
      "metadata": {
        "id": "MxsluB4xYvF1"
      },
      "source": [
        "from keras.applications.resnet50 import ResNet50\r\n",
        "from keras.preprocessing import image\r\n",
        "from keras.applications.resnet50 import preprocess_input, decode_predictions\r\n",
        "import numpy as np"
      ],
      "execution_count": null,
      "outputs": []
    },
    {
      "cell_type": "code",
      "metadata": {
        "id": "lsYNRDd7XppK",
        "colab": {
          "base_uri": "https://localhost:8080/"
        },
        "outputId": "6c7c4c13-c9d2-4ccb-bc0c-34393b8d2032"
      },
      "source": [
        "pretrained_model = ResNet50(\r\n",
        "    include_top=True,\r\n",
        "    weights='imagenet',\r\n",
        "    input_tensor=None,\r\n",
        "    input_shape=None,\r\n",
        "    pooling=None,\r\n",
        "    classes=1000,\r\n",
        "    classifier_activation='softmax',\r\n",
        ")"
      ],
      "execution_count": null,
      "outputs": [
        {
          "output_type": "stream",
          "text": [
            "Downloading data from https://storage.googleapis.com/tensorflow/keras-applications/resnet/resnet50_weights_tf_dim_ordering_tf_kernels.h5\n",
            "102973440/102967424 [==============================] - 2s 0us/step\n"
          ],
          "name": "stdout"
        }
      ]
    },
    {
      "cell_type": "code",
      "metadata": {
        "colab": {
          "base_uri": "https://localhost:8080/"
        },
        "id": "CjUbBCUSZP7e",
        "outputId": "695dd56a-269d-469c-8531-c26c3e2f2235"
      },
      "source": [
        "img_path = '/content/drive/My Drive/posterS.png'\r\n",
        "img = image.load_img(img_path, target_size=(224, 224))\r\n",
        "x = image.img_to_array(img)\r\n",
        "x = np.expand_dims(x, axis=0)\r\n",
        "x = preprocess_input(x)\r\n",
        "\r\n",
        "preds = pretrained_model.predict(x)\r\n",
        "\r\n",
        "# decode the results into a list of tuples (class, description, probability)\r\n",
        "print('Predicted:', decode_predictions(preds, top=3)[0])"
      ],
      "execution_count": null,
      "outputs": [
        {
          "output_type": "stream",
          "text": [
            "Downloading data from https://storage.googleapis.com/download.tensorflow.org/data/imagenet_class_index.json\n",
            "40960/35363 [==================================] - 0s 0us/step\n",
            "Predicted: [('n04069434', 'reflex_camera', 0.89795446), ('n04557648', 'water_bottle', 0.013900497), ('n03657121', 'lens_cap', 0.008853288)]\n"
          ],
          "name": "stdout"
        }
      ]
    },
    {
      "cell_type": "code",
      "metadata": {
        "id": "hzBZzP5YV0_Q",
        "colab": {
          "base_uri": "https://localhost:8080/"
        },
        "outputId": "a123dff3-2f92-40f7-9fd5-e7589b7a51a6"
      },
      "source": [
        "# h5 file address\r\n",
        "#of pretrained model\r\n",
        "weights_path = '/content/drive/My Drive/resnet50_weights_tf_dim_ordering_tf_kernels_notop.h5'\r\n",
        "# without last layer\r\n",
        "\r\n",
        "WEIGHTS_PATH = ('https://github.com/fchollet/deep-learning-models/'\r\n",
        "                'releases/download/v0.2/'\r\n",
        "                'resnet50_weights_tf_dim_ordering_tf_kernels.h5')\r\n",
        "WEIGHTS_PATH_NO_TOP = ('https://github.com/fchollet/deep-learning-models/'\r\n",
        "                       'releases/download/v0.2/'\r\n",
        "                       'resnet50_weights_tf_dim_ordering_tf_kernels_notop.h5')\r\n",
        "\r\n",
        "#fine image, no interest\r\n",
        "#image with deformation, interest\r\n",
        "#we could do it with obe class, but for future\r\n",
        "#classification let's start with complexity 2\r\n",
        "num_classes = 1\r\n",
        "\r\n",
        "fine_tune_model = Sequential()\r\n",
        "fine_tune_model.add(\r\n",
        "    ResNet50(\r\n",
        "        include_top = False,\r\n",
        "        weights = 'imagenet',\r\n",
        "        #input_shape = (w,h,3),\r\n",
        "        pooling = 'avg'\r\n",
        "    )\r\n",
        ")\r\n",
        "fine_tune_model.add( Dense( num_classes, activation = 'softmax' ) )\r\n",
        "fine_tune_model.layers[0].trainable = False\r\n",
        "print(len(fine_tune_model.layers))"
      ],
      "execution_count": null,
      "outputs": [
        {
          "output_type": "stream",
          "text": [
            "Downloading data from https://storage.googleapis.com/tensorflow/keras-applications/resnet/resnet50_weights_tf_dim_ordering_tf_kernels_notop.h5\n",
            "94773248/94765736 [==============================] - 1s 0us/step\n",
            "2\n"
          ],
          "name": "stdout"
        }
      ]
    },
    {
      "cell_type": "code",
      "metadata": {
        "id": "PhMX0fWhcRSC"
      },
      "source": [
        "fine_tune_model.compile(\r\n",
        "    optimizer = 'sgd',\r\n",
        "    loss = 'categorical_crossentropy', #log loss\r\n",
        "    metrics = [ 'accuracy' ]\r\n",
        ")"
      ],
      "execution_count": null,
      "outputs": []
    },
    {
      "cell_type": "code",
      "metadata": {
        "id": "H0fNkObydQvz"
      },
      "source": [
        "data_generator = image.ImageDataGenerator(preprocessing_function = preprocess_input)"
      ],
      "execution_count": null,
      "outputs": []
    },
    {
      "cell_type": "code",
      "metadata": {
        "colab": {
          "base_uri": "https://localhost:8080/"
        },
        "id": "7fTEhI8HgIo-",
        "outputId": "e00b3b7a-aff0-45ff-a15c-fd26bb78a034"
      },
      "source": [
        "training_data_path = '/content/drive/My Drive/miarfid/data/'\r\n",
        "image_size = 256\r\n",
        "training_generator = data_generator.flow_from_directory(\r\n",
        "    directory = training_data_path + 'train',\r\n",
        "    target_size = (image_size, image_size),\r\n",
        "    batch_size = 245,\r\n",
        "    class_mode = 'categorical'\r\n",
        ")\r\n",
        "validation_generator = data_generator.flow_from_directory(\r\n",
        "    directory = training_data_path + 'validation',\r\n",
        "    target_size = (image_size, image_size),\r\n",
        "    batch_size = 7,\r\n",
        "    class_mode = 'categorical'\r\n",
        ")"
      ],
      "execution_count": null,
      "outputs": [
        {
          "output_type": "stream",
          "text": [
            "Found 2450 images belonging to 1 classes.\n",
            "Found 56 images belonging to 1 classes.\n"
          ],
          "name": "stdout"
        }
      ]
    },
    {
      "cell_type": "code",
      "metadata": {
        "colab": {
          "base_uri": "https://localhost:8080/",
          "height": 214
        },
        "id": "adMaN-rSijmV",
        "outputId": "ef99c691-8684-43f0-ce14-248d237df0b0"
      },
      "source": [
        "fine_tune_model.fit_generator(\r\n",
        "    generator = training_generator,\r\n",
        "    steps_per_epoch = 10,\r\n",
        "    validation_data = validation_generator,\r\n",
        "    validation_steps = 8\r\n",
        ")"
      ],
      "execution_count": null,
      "outputs": [
        {
          "output_type": "error",
          "ename": "TypeError",
          "evalue": "ignored",
          "traceback": [
            "\u001b[0;31m---------------------------------------------------------------------------\u001b[0m",
            "\u001b[0;31mTypeError\u001b[0m                                 Traceback (most recent call last)",
            "\u001b[0;32m<ipython-input-36-340d0e1f9da0>\u001b[0m in \u001b[0;36m<module>\u001b[0;34m()\u001b[0m\n\u001b[1;32m      3\u001b[0m     \u001b[0msteps_per_epoch\u001b[0m \u001b[0;34m=\u001b[0m \u001b[0;36m6\u001b[0m\u001b[0;34m,\u001b[0m\u001b[0;34m\u001b[0m\u001b[0;34m\u001b[0m\u001b[0m\n\u001b[1;32m      4\u001b[0m     \u001b[0mvalidation_data\u001b[0m \u001b[0;34m=\u001b[0m \u001b[0mvalidation_generator\u001b[0m\u001b[0;34m,\u001b[0m\u001b[0;34m\u001b[0m\u001b[0;34m\u001b[0m\u001b[0m\n\u001b[0;32m----> 5\u001b[0;31m     \u001b[0mvalidation_steps\u001b[0m \u001b[0;34m=\u001b[0m \u001b[0;36m1\u001b[0m\u001b[0;34m\u001b[0m\u001b[0;34m\u001b[0m\u001b[0m\n\u001b[0m\u001b[1;32m      6\u001b[0m )\n",
            "\u001b[0;31mTypeError\u001b[0m: fit() got an unexpected keyword argument 'generator'"
          ]
        }
      ]
    },
    {
      "cell_type": "code",
      "metadata": {
        "colab": {
          "base_uri": "https://localhost:8080/"
        },
        "id": "ihH1I2Haj4wl",
        "outputId": "d9168ba3-0116-4f31-b8f3-a923d0b77a3a"
      },
      "source": [
        "fine_tune_model.fit(\r\n",
        "    x = training_generator,\r\n",
        "    steps_per_epoch = 10,\r\n",
        "    validation_data = validation_generator,\r\n",
        "    validation_steps = 8\r\n",
        ")"
      ],
      "execution_count": null,
      "outputs": [
        {
          "output_type": "stream",
          "text": [
            " 8/10 [=======================>......] - ETA: 3:27 - loss: 0.0000e+00 - accuracy: 1.0000"
          ],
          "name": "stdout"
        }
      ]
    }
  ]
}