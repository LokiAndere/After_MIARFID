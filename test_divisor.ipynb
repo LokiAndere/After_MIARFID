{
  "nbformat": 4,
  "nbformat_minor": 0,
  "metadata": {
    "colab": {
      "name": "test_divisor.ipynb",
      "provenance": [],
      "collapsed_sections": [],
      "authorship_tag": "ABX9TyPBr+9rAckEat/+cjWaVpa/",
      "include_colab_link": true
    },
    "kernelspec": {
      "name": "python3",
      "display_name": "Python 3"
    },
    "language_info": {
      "name": "python"
    }
  },
  "cells": [
    {
      "cell_type": "markdown",
      "metadata": {
        "id": "view-in-github",
        "colab_type": "text"
      },
      "source": [
        "<a href=\"https://colab.research.google.com/github/LokiAndere/After_MIARFID/blob/main/test_divisor.ipynb\" target=\"_parent\"><img src=\"https://colab.research.google.com/assets/colab-badge.svg\" alt=\"Open In Colab\"/></a>"
      ]
    },
    {
      "cell_type": "code",
      "metadata": {
        "id": "OfYiGF_7Vkyt"
      },
      "source": [
        "import numpy as np\n",
        "from scipy import signal\n",
        "from matplotlib import pyplot as plt\n",
        "np.set_printoptions(suppress = True)"
      ],
      "execution_count": 4,
      "outputs": []
    },
    {
      "cell_type": "code",
      "metadata": {
        "id": "CkhSOf8_VrXY"
      },
      "source": [
        "def draw(im):\n",
        "    im = np.repeat(im[..., None], 3, axis = 2)\n",
        "    _, ax = plt.subplots(figsize = (12, 12), dpi = 72)\n",
        "    #ax.xaxis.tick_top()\n",
        "    ax.xaxis.set_label_position('top')\n",
        "    ax.xaxis.set_ticks_position('top')\n",
        "    ax.set_xlabel('x')\n",
        "    ax.set_ylabel('y')\n",
        "    ax.imshow(im)\n",
        "    plt.show()"
      ],
      "execution_count": 23,
      "outputs": []
    },
    {
      "cell_type": "code",
      "metadata": {
        "colab": {
          "base_uri": "https://localhost:8080/",
          "height": 712
        },
        "id": "I0WQu2cSWI-I",
        "outputId": "e7c43923-ec07-4c96-e32c-0f7c38ffe2d0"
      },
      "source": [
        "size = 50\n",
        "hs = size // 2\n",
        "test = np.full((size, size), 1, dtype = np.single)\n",
        "test[hs : , ...] = 0\n",
        "draw(test)"
      ],
      "execution_count": 24,
      "outputs": [
        {
          "output_type": "display_data",
          "data": {
            "image/png": "[encoded data removed]",
            "text/plain": [
              "<Figure size 864x864 with 1 Axes>"
            ]
          },
          "metadata": {
            "tags": [],
            "needs_background": "light"
          }
        }
      ]
    },
    {
      "cell_type": "code",
      "metadata": {
        "id": "8W7a8XyzWLjo"
      },
      "source": [
        "sobel = np.array(\n",
        "    [\n",
        "    [-1, -2, -1],\n",
        "    [0, 0, 0],\n",
        "    [1, 2, 1]\n",
        "    ],\n",
        "    dtype = np.single\n",
        ")\n",
        "\n",
        "divs = [1, 8, 6, 4]\n",
        "\n",
        "sobs = [sobel/d for d in divs]"
      ],
      "execution_count": 7,
      "outputs": []
    },
    {
      "cell_type": "code",
      "metadata": {
        "id": "9tf2kMGJWZ0R"
      },
      "source": [
        "res = [signal.convolve2d(test, sobel/d, mode='valid') for d in divs]"
      ],
      "execution_count": 8,
      "outputs": []
    },
    {
      "cell_type": "code",
      "metadata": {
        "colab": {
          "base_uri": "https://localhost:8080/"
        },
        "id": "xeiDNvjnWiLx",
        "outputId": "483baaaa-9c5c-437d-de46-f5b1d5060511"
      },
      "source": [
        "print(res[0].shape)\n",
        "\n",
        "for r in res:\n",
        "    print(r[:,0])\n",
        "    print()"
      ],
      "execution_count": 9,
      "outputs": [
        {
          "output_type": "stream",
          "text": [
            "(48, 48)\n",
            "[0. 0. 0. 0. 0. 0. 0. 0. 0. 0. 0. 0. 0. 0. 0. 0. 0. 0. 0. 0. 0. 0. 0. 4.\n",
            " 4. 0. 0. 0. 0. 0. 0. 0. 0. 0. 0. 0. 0. 0. 0. 0. 0. 0. 0. 0. 0. 0. 0. 0.]\n",
            "\n",
            "[0.  0.  0.  0.  0.  0.  0.  0.  0.  0.  0.  0.  0.  0.  0.  0.  0.  0.\n",
            " 0.  0.  0.  0.  0.  0.5 0.5 0.  0.  0.  0.  0.  0.  0.  0.  0.  0.  0.\n",
            " 0.  0.  0.  0.  0.  0.  0.  0.  0.  0.  0.  0. ]\n",
            "\n",
            "[0.00000001 0.00000001 0.00000001 0.00000001 0.00000001 0.00000001\n",
            " 0.00000001 0.00000001 0.00000001 0.00000001 0.00000001 0.00000001\n",
            " 0.00000001 0.00000001 0.00000001 0.00000001 0.00000001 0.00000001\n",
            " 0.00000001 0.00000001 0.00000001 0.00000001 0.00000001 0.6666667\n",
            " 0.6666667  0.         0.         0.         0.         0.\n",
            " 0.         0.         0.         0.         0.         0.\n",
            " 0.         0.         0.         0.         0.         0.\n",
            " 0.         0.         0.         0.         0.         0.        ]\n",
            "\n",
            "[0. 0. 0. 0. 0. 0. 0. 0. 0. 0. 0. 0. 0. 0. 0. 0. 0. 0. 0. 0. 0. 0. 0. 1.\n",
            " 1. 0. 0. 0. 0. 0. 0. 0. 0. 0. 0. 0. 0. 0. 0. 0. 0. 0. 0. 0. 0. 0. 0. 0.]\n",
            "\n"
          ],
          "name": "stdout"
        }
      ]
    },
    {
      "cell_type": "code",
      "metadata": {
        "colab": {
          "base_uri": "https://localhost:8080/",
          "height": 733
        },
        "id": "o453mCnMWkQx",
        "outputId": "ba863fb9-25ee-4dc7-ff5a-aa6fa882a0a0"
      },
      "source": [
        "_, axs = plt.subplots(2, 2, figsize = (12, 12), dpi = 72)\n",
        "for im, div, ax in zip(res, divs, axs.flatten()):\n",
        "    im = np.repeat(im[..., None], 3, axis = 2)\n",
        "    im = np.around(im, decimals=2)\n",
        "    ax.xaxis.tick_top()\n",
        "    ax.set_title(f'divisor {div}')\n",
        "    ax.imshow(im)\n",
        "    # ax.fmt_xdata = lambda x: f\"{x:.0f}\"\n",
        "    # ax.fmt_ydata = lambda x: \"{0:f}\".format(x)\n",
        "    # ax.format_coord = lambda x, y: \"({0:f}, \".format(y) +  \"{0:f})\".format(x)\n",
        "    ax.format_coord = lambda x,y: f\"x={x:.0f}, y={y:.0f}\"\n",
        "    # ax.format_coord = lambda x,y: f\"x={np.format_float_positional(x)}, y={np.format_float_positional(y)}\"\n",
        "plt.show()"
      ],
      "execution_count": 10,
      "outputs": [
        {
          "output_type": "stream",
          "text": [
            "Clipping input data to the valid range for imshow with RGB data ([0..1] for floats or [0..255] for integers).\n"
          ],
          "name": "stderr"
        },
        {
          "output_type": "display_data",
          "data": {
            "image/png": "[encoded data removed]",
            "text/plain": [
              "<Figure size 864x864 with 4 Axes>"
            ]
          },
          "metadata": {
            "tags": [],
            "needs_background": "light"
          }
        }
      ]
    }
  ]
}